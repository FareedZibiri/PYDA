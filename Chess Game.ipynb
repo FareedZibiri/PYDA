{
 "cells": [
  {
   "cell_type": "code",
   "execution_count": 3,
   "id": "56f41d89-f328-4c78-977f-410655da8216",
   "metadata": {},
   "outputs": [
    {
     "name": "stdout",
     "output_type": "stream",
     "text": [
      "Choose your white piece (pawn or rook) and its position (e.g., pawn a2). White pieces can occupy positions a1-h2:\n"
     ]
    },
    {
     "name": "stdin",
     "output_type": "stream",
     "text": [
      " rook a1\n"
     ]
    },
    {
     "name": "stdout",
     "output_type": "stream",
     "text": [
      "Enter a black piece and its position (e.g., rook h8). Black pieces can occupy positions a7-h8 (or 'done' to finish):\n"
     ]
    },
    {
     "name": "stdin",
     "output_type": "stream",
     "text": [
      " pawn a7\n"
     ]
    },
    {
     "name": "stdout",
     "output_type": "stream",
     "text": [
      "Added black piece: pawn at a7\n",
      "Enter a black piece and its position (e.g., rook h8). Black pieces can occupy positions a7-h8 (or 'done' to finish):\n"
     ]
    },
    {
     "name": "stdin",
     "output_type": "stream",
     "text": [
      " done\n"
     ]
    },
    {
     "name": "stdout",
     "output_type": "stream",
     "text": [
      "The white piece can capture the following black pieces:\n",
      "a7\n"
     ]
    }
   ],
   "source": [
    "def is_valid_position(position):\n",
    "    \"\"\"Check if the given position is valid (a-h, 1-8).\"\"\"\n",
    "    if len(position) != 2:\n",
    "        return False\n",
    "    column, row = position\n",
    "    return column in 'abcdefgh' and row in '12345678'\n",
    "\n",
    "def is_valid_white_position(position):\n",
    "    \"\"\"Check if the given position is valid for white pieces (a1-h2).\"\"\"\n",
    "    column, row = position\n",
    "    return column in 'abcdefgh' and row in '12'\n",
    "\n",
    "def is_valid_black_position(position):\n",
    "    \"\"\"Check if the given position is valid for black pieces (a7-h8).\"\"\"\n",
    "    column, row = position\n",
    "    return column in 'abcdefgh' and row in '78'\n",
    "\n",
    "def parse_input(input_str, is_white=True):\n",
    "    \"\"\"Parse the input string to check the piece type and position.\"\"\"\n",
    "    parts = input_str.split()\n",
    "    if len(parts) != 2 or not is_valid_position(parts[1]):\n",
    "        return None, None\n",
    "    piece, position = parts[0].lower(), parts[1]\n",
    "    if is_white and not is_valid_white_position(position):\n",
    "        return None, None\n",
    "    if not is_white and not is_valid_black_position(position):\n",
    "        return None, None\n",
    "    return piece, position\n",
    "\n",
    "def get_piece_moves(piece, position):\n",
    "    \"\"\"Get possible moves for the given piece type and position/coordinates.\"\"\"\n",
    "    column, row = position\n",
    "    row = int(row)\n",
    "    moves = []\n",
    "    if piece == 'pawn':\n",
    "        if row < 8:\n",
    "            moves.append(f'{column}{row + 1}')\n",
    "    elif piece == 'rook':\n",
    "        for r in range(1, 9):\n",
    "            if r != row:\n",
    "                moves.append(f'{column}{r}')\n",
    "        for c in 'abcdefgh':\n",
    "            if c != column:\n",
    "                moves.append(f'{c}{row}')\n",
    "    return moves\n",
    "\n",
    "def main():\n",
    "    # Loop until valid white piece and position are entered\n",
    "    while True:\n",
    "        print(\"Choose your white piece (pawn or rook) and its position (e.g., pawn a2). White pieces can occupy positions a1-h2:\")\n",
    "        white_piece_input = input().strip()\n",
    "        white_piece, white_position = parse_input(white_piece_input, is_white=True)\n",
    "        if white_piece in ['pawn', 'rook'] and white_position:\n",
    "            break\n",
    "        else:\n",
    "            print(\"Invalid input. White pieces can occupy positions a1-h2. Please enter a valid piece and position.\")\n",
    "\n",
    "    black_pieces = []\n",
    "    while True:\n",
    "        print(\"Enter a black piece and its position (e.g., rook h8). Black pieces can occupy positions a7-h8 (or 'done' to finish):\")\n",
    "        black_piece_input = input().strip()\n",
    "        if black_piece_input.lower() == 'done':\n",
    "            if not black_pieces:\n",
    "                print(\"You must enter at least one black piece.\")\n",
    "                continue\n",
    "            break\n",
    "        black_piece, black_position = parse_input(black_piece_input, is_white=False)\n",
    "        if black_piece and black_position:\n",
    "            black_pieces.append((black_piece, black_position))\n",
    "            print(f\"Added black piece: {black_piece} at {black_position}\")\n",
    "        else:\n",
    "            print(\"Invalid input. Black pieces can occupy positions a7-h8. Please enter a valid piece and position.\")\n",
    "\n",
    "    # Determine which black pieces can be taken by the white piece\n",
    "    white_moves = get_piece_moves(white_piece, white_position)\n",
    "    captured_pieces = [pos for piece, pos in black_pieces if pos in white_moves]\n",
    "\n",
    "    if captured_pieces:\n",
    "        print(\"The white piece can capture the following black pieces:\")\n",
    "        for pos in captured_pieces:\n",
    "            print(pos)\n",
    "    else:\n",
    "        print(\"The white piece cannot capture any black pieces.\")\n",
    "\n",
    "if __name__ == \"__main__\":\n",
    "    main()\n"
   ]
  },
  {
   "cell_type": "code",
   "execution_count": null,
   "id": "31f9aff6-499c-4904-b0e1-ea1f1d228472",
   "metadata": {},
   "outputs": [],
   "source": []
  }
 ],
 "metadata": {
  "kernelspec": {
   "display_name": "Python 3 (ipykernel)",
   "language": "python",
   "name": "python3"
  },
  "language_info": {
   "codemirror_mode": {
    "name": "ipython",
    "version": 3
   },
   "file_extension": ".py",
   "mimetype": "text/x-python",
   "name": "python",
   "nbconvert_exporter": "python",
   "pygments_lexer": "ipython3",
   "version": "3.12.4"
  }
 },
 "nbformat": 4,
 "nbformat_minor": 5
}
